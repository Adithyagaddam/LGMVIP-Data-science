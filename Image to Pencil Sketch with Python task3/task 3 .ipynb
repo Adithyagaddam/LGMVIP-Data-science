{
 "cells": [
  {
   "cell_type": "markdown",
   "id": "72090995",
   "metadata": {},
   "source": [
    "LETSGROWMORE VIRTUAL INTERNSHIP PROGRAM (DATA-SCIENCE).\n",
    "\n",
    "TASK: 4(Beginner) (Image to Pencil Sketch with Python).\n",
    "\n",
    "DONE BY: ADITHYA G.\n",
    "Email:gaddam.adithya23@gmail.com\n",
    "MONTH: April"
   ]
  },
  {
   "cell_type": "code",
   "execution_count": null,
   "id": "2db20982",
   "metadata": {},
   "outputs": [],
   "source": [
    "pip install opencv-python"
   ]
  },
  {
   "cell_type": "code",
   "execution_count": null,
   "id": "8c45ba16",
   "metadata": {},
   "outputs": [],
   "source": [
    "!pip install plotly config --global http.sslVerify false"
   ]
  },
  {
   "cell_type": "code",
   "execution_count": null,
   "id": "7db814a1",
   "metadata": {},
   "outputs": [],
   "source": [
    "!pip install --trusted-host pypi.python.org --trusted-host pypi.org --trusted-host files.pythonhosted.org plotly "
   ]
  },
  {
   "cell_type": "code",
   "execution_count": null,
   "id": "b0fad189",
   "metadata": {},
   "outputs": [],
   "source": [
    "import cv2\n",
    "import numpy as np\n",
    "import plotly.express as px\n",
    "import plotly.io as pio\n",
    "pio.renderers.default = \"notebook_connected\""
   ]
  },
  {
   "cell_type": "code",
   "execution_count": null,
   "id": "6aff1ecf",
   "metadata": {},
   "outputs": [],
   "source": [
    "image = cv2.imread(r\"lalith.jpg\")\n",
    "image = cv2.cvtColor(image,cv2.COLOR_BGR2RGB)\n",
    "pics=px.imshow(image)\n",
    "pics.update_xaxes(showticklabels=False).update_yaxes(showticklabels=False)\n",
    "pics.show()"
   ]
  },
  {
   "cell_type": "code",
   "execution_count": null,
   "id": "abad50bf",
   "metadata": {},
   "outputs": [],
   "source": [
    "#In this cell we resize the  image according to our requirements\n",
    "scale_percent = 0.60\n",
    "width = int(image.shape[1]*scale_percent)\n",
    "height = int(image.shape[0]*scale_percent)\n",
    "dim = (width,height)\n",
    "resized = cv2.resize(image,dim,interpolation = cv2.INTER_AREA)\n",
    "res=px.imshow(resized)\n",
    "res.update_xaxes(showticklabels=False).update_yaxes(showticklabels=False)\n",
    "res.show()"
   ]
  },
  {
   "cell_type": "code",
   "execution_count": null,
   "id": "caeeeacc",
   "metadata": {},
   "outputs": [],
   "source": [
    "# We then enhance the image \n",
    "kernel_sharpening = np.array([[-1,-1,-1], \n",
    "                              [-1, 9,-1],\n",
    "                              [-1,-1,-1]])\n",
    "sharpen = cv2.filter2D(resized,-1,kernel_sharpening)\n",
    "sharp=px.imshow(sharpen)\n",
    "sharp.update_xaxes(showticklabels=False).update_yaxes(showticklabels=False)\n",
    "sharp.show()\n"
   ]
  },
  {
   "cell_type": "code",
   "execution_count": null,
   "id": "b9d955c1",
   "metadata": {},
   "outputs": [],
   "source": [
    "#Then we invert the image\n",
    "invs = 255-grayscale\n",
    "inv=px.imshow(invs,color_continuous_scale='gray')\n",
    "inv.update_xaxes(showticklabels=False).update_yaxes(showticklabels=False)\n",
    "inv.show()"
   ]
  },
  {
   "cell_type": "code",
   "execution_count": null,
   "id": "6ed3b138",
   "metadata": {},
   "outputs": [],
   "source": [
    "gauss = cv2.GaussianBlur(invs,ksize=(15,15),sigmaX=0,sigmaY=0)\n",
    "gaus=px.imshow(gauss,color_continuous_scale='gray')\n",
    "gaus.update_xaxes(showticklabels=False).update_yaxes(showticklabels=False)\n",
    "gaus.show()"
   ]
  },
  {
   "cell_type": "code",
   "execution_count": null,
   "id": "49b317d7",
   "metadata": {},
   "outputs": [],
   "source": [
    "#In this cell we finally obtain the required end image\n",
    "def dodgeV2(image,mask):\n",
    "    return cv2.divide(image,255-mask,scale=256)\n",
    "\n",
    "pencilsketch = dodgeV2(grayscale,gauss)\n",
    "sketch=px.imshow(pencilsketch,color_continuous_scale='gray')\n",
    "sketch.update_layout(coloraxis_showscale=False)\n",
    "sketch.update_xaxes(showticklabels=False).update_yaxes(showticklabels=False)\n",
    "sketch.show()"
   ]
  },
  {
   "cell_type": "markdown",
   "id": "77bf0b36",
   "metadata": {},
   "source": [
    "We have successfully completed Image to Pencil Sketch with Python."
   ]
  }
 ],
 "metadata": {
  "kernelspec": {
   "display_name": "Python 3 (ipykernel)",
   "language": "python",
   "name": "python3"
  },
  "language_info": {
   "codemirror_mode": {
    "name": "ipython",
    "version": 3
   },
   "file_extension": ".py",
   "mimetype": "text/x-python",
   "name": "python",
   "nbconvert_exporter": "python",
   "pygments_lexer": "ipython3",
   "version": "3.9.7"
  }
 },
 "nbformat": 4,
 "nbformat_minor": 5
}
